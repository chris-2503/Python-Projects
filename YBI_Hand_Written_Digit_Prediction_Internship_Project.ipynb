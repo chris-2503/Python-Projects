{
  "nbformat": 4,
  "nbformat_minor": 0,
  "metadata": {
    "colab": {
      "provenance": []
    },
    "kernelspec": {
      "name": "python3",
      "display_name": "Python 3"
    },
    "language_info": {
      "name": "python"
    }
  },
  "cells": [
    {
      "cell_type": "markdown",
      "source": [
        "# **Hand Written Digit Prediction - Classification Analysis**\n",
        "\n",
        "---\n",
        "\n"
      ],
      "metadata": {
        "id": "1OALch4-3pRD"
      }
    },
    {
      "cell_type": "markdown",
      "source": [
        "**Chris Collin J - Artificial Intelligence and Machine Learning Project - YBI**"
      ],
      "metadata": {
        "id": "awG8cN3Kc7-F"
      }
    },
    {
      "cell_type": "markdown",
      "source": [
        "# **Objective**"
      ],
      "metadata": {
        "id": "kCyt9wfE3wZR"
      }
    },
    {
      "cell_type": "markdown",
      "source": [
        "The objective of this machine learning project is to develop an accurate and efficient hand-written digit classification model that can effectively predict the digits present in images of handwritten digits. By employing advanced classification techniques, the project aims to achieve high classification accuracy and robustness, enabling the model to generalize well to unseen data. Through careful feature engineering, model selection, and hyperparameter tuning, the project seeks to explore the best-suited classification algorithms and create a production-ready solution for accurate digit prediction, with potential applications in digit recognition systems and optical character recognition (OCR) technology."
      ],
      "metadata": {
        "id": "6CvwJ_PN4O3Q"
      }
    },
    {
      "cell_type": "markdown",
      "source": [
        "# **Data Source**"
      ],
      "metadata": {
        "id": "WDWEYf8h4PHE"
      }
    },
    {
      "cell_type": "markdown",
      "source": [
        "# **Import Library**"
      ],
      "metadata": {
        "id": "lbn3Eu3i4U1T"
      }
    },
    {
      "cell_type": "code",
      "source": [
        "import pandas as pd"
      ],
      "metadata": {
        "id": "q3S4UPh25TV7"
      },
      "execution_count": 1,
      "outputs": []
    },
    {
      "cell_type": "code",
      "source": [
        "import numpy as np"
      ],
      "metadata": {
        "id": "PDlxrOtzvpL5"
      },
      "execution_count": 2,
      "outputs": []
    },
    {
      "cell_type": "code",
      "source": [
        "import matplotlib.pyplot as plt"
      ],
      "metadata": {
        "id": "wQiXUcxXvsKJ"
      },
      "execution_count": 3,
      "outputs": []
    },
    {
      "cell_type": "markdown",
      "source": [
        "# **Import Data**"
      ],
      "metadata": {
        "id": "CdPuJaZ45TxO"
      }
    },
    {
      "cell_type": "code",
      "source": [
        "from sklearn.datasets import load_digits"
      ],
      "metadata": {
        "id": "-q8YtSy75pfG"
      },
      "execution_count": 4,
      "outputs": []
    },
    {
      "cell_type": "code",
      "source": [
        "df = load_digits()"
      ],
      "metadata": {
        "id": "-CYD4lcDyB27"
      },
      "execution_count": 5,
      "outputs": []
    },
    {
      "cell_type": "code",
      "source": [
        "_, axes = plt.subplots(nrows=1, ncols=4, figsize=(10,3))\n",
        "for ax, image, label in zip(axes, df.images, df.target):\n",
        "  ax.set_axis_off()\n",
        "  ax.imshow(image, cmap=plt.cm.gray_r, interpolation=\"nearest\")\n",
        "  ax.set_title(\"Training: %i\" % label)"
      ],
      "metadata": {
        "colab": {
          "base_uri": "https://localhost:8080/",
          "height": 227
        },
        "id": "PVBjMwXyyNIb",
        "outputId": "a97eed7a-7da3-4d57-8ce3-920b5847d908"
      },
      "execution_count": 9,
      "outputs": [
        {
          "output_type": "display_data",
          "data": {
            "text/plain": [
              "<Figure size 1000x300 with 4 Axes>"
            ],
            "image/png": "[encoded data removed]"
          },
          "metadata": {}
        }
      ]
    },
    {
      "cell_type": "markdown",
      "source": [
        "# **Data Preprocessing**"
      ],
      "metadata": {
        "id": "nvmXkBxB7epN"
      }
    },
    {
      "cell_type": "markdown",
      "source": [
        "**Flatten Image**"
      ],
      "metadata": {
        "id": "a8jUEFowaKgW"
      }
    },
    {
      "cell_type": "code",
      "source": [
        "df.images.shape"
      ],
      "metadata": {
        "colab": {
          "base_uri": "https://localhost:8080/"
        },
        "id": "N41M5RfZ7jsq",
        "outputId": "913ea8a2-3c2d-4774-c324-c0573790140f"
      },
      "execution_count": 10,
      "outputs": [
        {
          "output_type": "execute_result",
          "data": {
            "text/plain": [
              "(1797, 8, 8)"
            ]
          },
          "metadata": {},
          "execution_count": 10
        }
      ]
    },
    {
      "cell_type": "code",
      "source": [
        "df.images[0]"
      ],
      "metadata": {
        "colab": {
          "base_uri": "https://localhost:8080/"
        },
        "id": "AZc2cg_Zax2C",
        "outputId": "3e2f6e40-f39f-45d1-a8db-550bf617e775"
      },
      "execution_count": 11,
      "outputs": [
        {
          "output_type": "execute_result",
          "data": {
            "text/plain": [
              "array([[ 0.,  0.,  5., 13.,  9.,  1.,  0.,  0.],\n",
              "       [ 0.,  0., 13., 15., 10., 15.,  5.,  0.],\n",
              "       [ 0.,  3., 15.,  2.,  0., 11.,  8.,  0.],\n",
              "       [ 0.,  4., 12.,  0.,  0.,  8.,  8.,  0.],\n",
              "       [ 0.,  5.,  8.,  0.,  0.,  9.,  8.,  0.],\n",
              "       [ 0.,  4., 11.,  0.,  1., 12.,  7.,  0.],\n",
              "       [ 0.,  2., 14.,  5., 10., 12.,  0.,  0.],\n",
              "       [ 0.,  0.,  6., 13., 10.,  0.,  0.,  0.]])"
            ]
          },
          "metadata": {},
          "execution_count": 11
        }
      ]
    },
    {
      "cell_type": "code",
      "source": [
        "df.images[0].shape"
      ],
      "metadata": {
        "colab": {
          "base_uri": "https://localhost:8080/"
        },
        "id": "zRkeego5a7rR",
        "outputId": "8f685ef1-58af-480b-de0d-f81169b2150a"
      },
      "execution_count": 12,
      "outputs": [
        {
          "output_type": "execute_result",
          "data": {
            "text/plain": [
              "(8, 8)"
            ]
          },
          "metadata": {},
          "execution_count": 12
        }
      ]
    },
    {
      "cell_type": "code",
      "source": [
        "len(df.images)"
      ],
      "metadata": {
        "colab": {
          "base_uri": "https://localhost:8080/"
        },
        "id": "j2FKWBlka_JM",
        "outputId": "2ba88bcf-953e-4d33-bec4-1116d696473a"
      },
      "execution_count": 13,
      "outputs": [
        {
          "output_type": "execute_result",
          "data": {
            "text/plain": [
              "1797"
            ]
          },
          "metadata": {},
          "execution_count": 13
        }
      ]
    },
    {
      "cell_type": "code",
      "source": [
        "n_samples = len(df.images)\n",
        "data = df.images.reshape((n_samples, -1))"
      ],
      "metadata": {
        "id": "QP9Tv83GbIKH"
      },
      "execution_count": 14,
      "outputs": []
    },
    {
      "cell_type": "code",
      "source": [
        "data[0]"
      ],
      "metadata": {
        "colab": {
          "base_uri": "https://localhost:8080/"
        },
        "id": "WGjmjrFibVex",
        "outputId": "7b17055e-548d-4cc9-d5dc-130ad31d40d8"
      },
      "execution_count": 15,
      "outputs": [
        {
          "output_type": "execute_result",
          "data": {
            "text/plain": [
              "array([ 0.,  0.,  5., 13.,  9.,  1.,  0.,  0.,  0.,  0., 13., 15., 10.,\n",
              "       15.,  5.,  0.,  0.,  3., 15.,  2.,  0., 11.,  8.,  0.,  0.,  4.,\n",
              "       12.,  0.,  0.,  8.,  8.,  0.,  0.,  5.,  8.,  0.,  0.,  9.,  8.,\n",
              "        0.,  0.,  4., 11.,  0.,  1., 12.,  7.,  0.,  0.,  2., 14.,  5.,\n",
              "       10., 12.,  0.,  0.,  0.,  0.,  6., 13., 10.,  0.,  0.,  0.])"
            ]
          },
          "metadata": {},
          "execution_count": 15
        }
      ]
    },
    {
      "cell_type": "code",
      "source": [
        "data[0].shape"
      ],
      "metadata": {
        "colab": {
          "base_uri": "https://localhost:8080/"
        },
        "id": "8BROx1SnbW_p",
        "outputId": "72d56fec-71ea-45b2-a5f7-a4d6a414c860"
      },
      "execution_count": 16,
      "outputs": [
        {
          "output_type": "execute_result",
          "data": {
            "text/plain": [
              "(64,)"
            ]
          },
          "metadata": {},
          "execution_count": 16
        }
      ]
    },
    {
      "cell_type": "code",
      "source": [
        "data.shape"
      ],
      "metadata": {
        "colab": {
          "base_uri": "https://localhost:8080/"
        },
        "id": "OALSIm47bdLL",
        "outputId": "d9f4896e-625d-4e6c-e5f9-a0844253071f"
      },
      "execution_count": 17,
      "outputs": [
        {
          "output_type": "execute_result",
          "data": {
            "text/plain": [
              "(1797, 64)"
            ]
          },
          "metadata": {},
          "execution_count": 17
        }
      ]
    },
    {
      "cell_type": "markdown",
      "source": [
        "# **Scaling Image Data**"
      ],
      "metadata": {
        "id": "ZmcjC_XR7kDE"
      }
    },
    {
      "cell_type": "code",
      "source": [
        "data.min()"
      ],
      "metadata": {
        "colab": {
          "base_uri": "https://localhost:8080/"
        },
        "id": "pBZiEO5N8J5U",
        "outputId": "611eaa1f-8ddd-415b-fb78-895d34869154"
      },
      "execution_count": 18,
      "outputs": [
        {
          "output_type": "execute_result",
          "data": {
            "text/plain": [
              "0.0"
            ]
          },
          "metadata": {},
          "execution_count": 18
        }
      ]
    },
    {
      "cell_type": "code",
      "source": [
        "data.max()"
      ],
      "metadata": {
        "colab": {
          "base_uri": "https://localhost:8080/"
        },
        "id": "PTA2nwPcbwW1",
        "outputId": "aab89015-1c64-474d-d134-c8e7ba317dfe"
      },
      "execution_count": 19,
      "outputs": [
        {
          "output_type": "execute_result",
          "data": {
            "text/plain": [
              "16.0"
            ]
          },
          "metadata": {},
          "execution_count": 19
        }
      ]
    },
    {
      "cell_type": "code",
      "source": [
        "data = data/16"
      ],
      "metadata": {
        "id": "wcpPlvZ5by3Z"
      },
      "execution_count": 20,
      "outputs": []
    },
    {
      "cell_type": "code",
      "source": [
        "data.min()"
      ],
      "metadata": {
        "colab": {
          "base_uri": "https://localhost:8080/"
        },
        "id": "BZnW9ZLmb0z2",
        "outputId": "cf62fab3-dbc6-48d8-a36e-9e564b98d324"
      },
      "execution_count": 21,
      "outputs": [
        {
          "output_type": "execute_result",
          "data": {
            "text/plain": [
              "0.0"
            ]
          },
          "metadata": {},
          "execution_count": 21
        }
      ]
    },
    {
      "cell_type": "code",
      "source": [
        "data.max()"
      ],
      "metadata": {
        "colab": {
          "base_uri": "https://localhost:8080/"
        },
        "id": "gVL29W4Bb3su",
        "outputId": "6c085158-9c15-4392-e335-ce9b90f16733"
      },
      "execution_count": 22,
      "outputs": [
        {
          "output_type": "execute_result",
          "data": {
            "text/plain": [
              "1.0"
            ]
          },
          "metadata": {},
          "execution_count": 22
        }
      ]
    },
    {
      "cell_type": "code",
      "source": [
        "data[0]"
      ],
      "metadata": {
        "colab": {
          "base_uri": "https://localhost:8080/"
        },
        "id": "djQ_oRTub6XE",
        "outputId": "0286dc95-2500-47b3-a454-aa25d787621e"
      },
      "execution_count": 23,
      "outputs": [
        {
          "output_type": "execute_result",
          "data": {
            "text/plain": [
              "array([0.    , 0.    , 0.3125, 0.8125, 0.5625, 0.0625, 0.    , 0.    ,\n",
              "       0.    , 0.    , 0.8125, 0.9375, 0.625 , 0.9375, 0.3125, 0.    ,\n",
              "       0.    , 0.1875, 0.9375, 0.125 , 0.    , 0.6875, 0.5   , 0.    ,\n",
              "       0.    , 0.25  , 0.75  , 0.    , 0.    , 0.5   , 0.5   , 0.    ,\n",
              "       0.    , 0.3125, 0.5   , 0.    , 0.    , 0.5625, 0.5   , 0.    ,\n",
              "       0.    , 0.25  , 0.6875, 0.    , 0.0625, 0.75  , 0.4375, 0.    ,\n",
              "       0.    , 0.125 , 0.875 , 0.3125, 0.625 , 0.75  , 0.    , 0.    ,\n",
              "       0.    , 0.    , 0.375 , 0.8125, 0.625 , 0.    , 0.    , 0.    ])"
            ]
          },
          "metadata": {},
          "execution_count": 23
        }
      ]
    },
    {
      "cell_type": "markdown",
      "source": [
        "# **Train Test Split Data**"
      ],
      "metadata": {
        "id": "Uv3mJGJG8PwN"
      }
    },
    {
      "cell_type": "code",
      "source": [
        "from sklearn.model_selection import train_test_split"
      ],
      "metadata": {
        "id": "KNo7eTze8YUc"
      },
      "execution_count": 24,
      "outputs": []
    },
    {
      "cell_type": "code",
      "source": [
        "X_train, X_test, y_train, y_test = train_test_split(data, df.target, test_size=0.3)"
      ],
      "metadata": {
        "id": "Zm7n1e3RcNf0"
      },
      "execution_count": 25,
      "outputs": []
    },
    {
      "cell_type": "code",
      "source": [
        "X_train.shape, X_test.shape, y_train.shape, y_test.shape"
      ],
      "metadata": {
        "colab": {
          "base_uri": "https://localhost:8080/"
        },
        "id": "hDFiSPYfcoDf",
        "outputId": "f6158d39-c9b2-4600-e0e4-c5600beae939"
      },
      "execution_count": 26,
      "outputs": [
        {
          "output_type": "execute_result",
          "data": {
            "text/plain": [
              "((1257, 64), (540, 64), (1257,), (540,))"
            ]
          },
          "metadata": {},
          "execution_count": 26
        }
      ]
    },
    {
      "cell_type": "markdown",
      "source": [
        "# **Random Forest Model**"
      ],
      "metadata": {
        "id": "YBFdevay8aFO"
      }
    },
    {
      "cell_type": "code",
      "source": [
        "from sklearn.ensemble import RandomForestClassifier"
      ],
      "metadata": {
        "id": "4vIvSjvr8dFX"
      },
      "execution_count": 27,
      "outputs": []
    },
    {
      "cell_type": "code",
      "source": [
        "rf = RandomForestClassifier()"
      ],
      "metadata": {
        "id": "xuMGUnZSdQL3"
      },
      "execution_count": 28,
      "outputs": []
    },
    {
      "cell_type": "code",
      "source": [
        "rf.fit(X_train, y_train)"
      ],
      "metadata": {
        "colab": {
          "base_uri": "https://localhost:8080/",
          "height": 74
        },
        "id": "vuMz_CUNdWoa",
        "outputId": "8d12842a-124f-465d-83d3-c457e1597ea4"
      },
      "execution_count": 29,
      "outputs": [
        {
          "output_type": "execute_result",
          "data": {
            "text/plain": [
              "RandomForestClassifier()"
            ],
            "text/html": [
              "<style>#sk-container-id-1 {color: black;background-color: white;}#sk-container-id-1 pre{padding: 0;}#sk-container-id-1 div.sk-toggleable {background-color: white;}#sk-container-id-1 label.sk-toggleable__label {cursor: pointer;display: block;width: 100%;margin-bottom: 0;padding: 0.3em;box-sizing: border-box;text-align: center;}#sk-container-id-1 label.sk-toggleable__label-arrow:before {content: \"▸\";float: left;margin-right: 0.25em;color: #696969;}#sk-container-id-1 label.sk-toggleable__label-arrow:hover:before {color: black;}#sk-container-id-1 div.sk-estimator:hover label.sk-toggleable__label-arrow:before {color: black;}#sk-container-id-1 div.sk-toggleable__content {max-height: 0;max-width: 0;overflow: hidden;text-align: left;background-color: #f0f8ff;}#sk-container-id-1 div.sk-toggleable__content pre {margin: 0.2em;color: black;border-radius: 0.25em;background-color: #f0f8ff;}#sk-container-id-1 input.sk-toggleable__control:checked~div.sk-toggleable__content {max-height: 200px;max-width: 100%;overflow: auto;}#sk-container-id-1 input.sk-toggleable__control:checked~label.sk-toggleable__label-arrow:before {content: \"▾\";}#sk-container-id-1 div.sk-estimator input.sk-toggleable__control:checked~label.sk-toggleable__label {background-color: #d4ebff;}#sk-container-id-1 div.sk-label input.sk-toggleable__control:checked~label.sk-toggleable__label {background-color: #d4ebff;}#sk-container-id-1 input.sk-hidden--visually {border: 0;clip: rect(1px 1px 1px 1px);clip: rect(1px, 1px, 1px, 1px);height: 1px;margin: -1px;overflow: hidden;padding: 0;position: absolute;width: 1px;}#sk-container-id-1 div.sk-estimator {font-family: monospace;background-color: #f0f8ff;border: 1px dotted black;border-radius: 0.25em;box-sizing: border-box;margin-bottom: 0.5em;}#sk-container-id-1 div.sk-estimator:hover {background-color: #d4ebff;}#sk-container-id-1 div.sk-parallel-item::after {content: \"\";width: 100%;border-bottom: 1px solid gray;flex-grow: 1;}#sk-container-id-1 div.sk-label:hover label.sk-toggleable__label {background-color: #d4ebff;}#sk-container-id-1 div.sk-serial::before {content: \"\";position: absolute;border-left: 1px solid gray;box-sizing: border-box;top: 0;bottom: 0;left: 50%;z-index: 0;}#sk-container-id-1 div.sk-serial {display: flex;flex-direction: column;align-items: center;background-color: white;padding-right: 0.2em;padding-left: 0.2em;position: relative;}#sk-container-id-1 div.sk-item {position: relative;z-index: 1;}#sk-container-id-1 div.sk-parallel {display: flex;align-items: stretch;justify-content: center;background-color: white;position: relative;}#sk-container-id-1 div.sk-item::before, #sk-container-id-1 div.sk-parallel-item::before {content: \"\";position: absolute;border-left: 1px solid gray;box-sizing: border-box;top: 0;bottom: 0;left: 50%;z-index: -1;}#sk-container-id-1 div.sk-parallel-item {display: flex;flex-direction: column;z-index: 1;position: relative;background-color: white;}#sk-container-id-1 div.sk-parallel-item:first-child::after {align-self: flex-end;width: 50%;}#sk-container-id-1 div.sk-parallel-item:last-child::after {align-self: flex-start;width: 50%;}#sk-container-id-1 div.sk-parallel-item:only-child::after {width: 0;}#sk-container-id-1 div.sk-dashed-wrapped {border: 1px dashed gray;margin: 0 0.4em 0.5em 0.4em;box-sizing: border-box;padding-bottom: 0.4em;background-color: white;}#sk-container-id-1 div.sk-label label {font-family: monospace;font-weight: bold;display: inline-block;line-height: 1.2em;}#sk-container-id-1 div.sk-label-container {text-align: center;}#sk-container-id-1 div.sk-container {/* jupyter's `normalize.less` sets `[hidden] { display: none; }` but bootstrap.min.css set `[hidden] { display: none !important; }` so we also need the `!important` here to be able to override the default hidden behavior on the sphinx rendered scikit-learn.org. See: https://github.com/scikit-learn/scikit-learn/issues/21755 */display: inline-block !important;position: relative;}#sk-container-id-1 div.sk-text-repr-fallback {display: none;}</style><div id=\"sk-container-id-1\" class=\"sk-top-container\"><div class=\"sk-text-repr-fallback\"><pre>RandomForestClassifier()</pre><b>In a Jupyter environment, please rerun this cell to show the HTML representation or trust the notebook. <br />On GitHub, the HTML representation is unable to render, please try loading this page with nbviewer.org.</b></div><div class=\"sk-container\" hidden><div class=\"sk-item\"><div class=\"sk-estimator sk-toggleable\"><input class=\"sk-toggleable__control sk-hidden--visually\" id=\"sk-estimator-id-1\" type=\"checkbox\" checked><label for=\"sk-estimator-id-1\" class=\"sk-toggleable__label sk-toggleable__label-arrow\">RandomForestClassifier</label><div class=\"sk-toggleable__content\"><pre>RandomForestClassifier()</pre></div></div></div></div></div>"
            ]
          },
          "metadata": {},
          "execution_count": 29
        }
      ]
    },
    {
      "cell_type": "markdown",
      "source": [
        "# **Predict Test Data**"
      ],
      "metadata": {
        "id": "weuNYO_08lBL"
      }
    },
    {
      "cell_type": "code",
      "source": [
        "y_pred = rf.predict(X_test)"
      ],
      "metadata": {
        "id": "7bhv5JnW8pvs"
      },
      "execution_count": 30,
      "outputs": []
    },
    {
      "cell_type": "code",
      "source": [
        "y_pred"
      ],
      "metadata": {
        "colab": {
          "base_uri": "https://localhost:8080/"
        },
        "id": "pwshUyqhdto2",
        "outputId": "68c7ffa3-7159-4ccc-b920-7e3e0bd776f6"
      },
      "execution_count": 31,
      "outputs": [
        {
          "output_type": "execute_result",
          "data": {
            "text/plain": [
              "array([5, 6, 4, 1, 0, 6, 4, 0, 1, 1, 9, 2, 0, 1, 4, 2, 7, 9, 7, 7, 0, 9,\n",
              "       9, 7, 4, 2, 3, 0, 0, 8, 3, 3, 9, 2, 0, 1, 4, 3, 2, 3, 8, 8, 8, 8,\n",
              "       1, 4, 5, 6, 0, 7, 3, 9, 6, 4, 2, 9, 6, 3, 5, 3, 4, 8, 1, 2, 4, 3,\n",
              "       5, 5, 3, 9, 0, 8, 1, 1, 7, 4, 9, 1, 4, 4, 9, 5, 6, 3, 6, 6, 7, 0,\n",
              "       5, 7, 4, 0, 1, 8, 7, 3, 9, 8, 9, 0, 4, 9, 7, 7, 5, 8, 2, 9, 2, 2,\n",
              "       3, 9, 7, 9, 1, 1, 7, 1, 8, 6, 5, 9, 8, 0, 7, 1, 4, 1, 1, 5, 0, 6,\n",
              "       5, 4, 2, 5, 7, 1, 8, 8, 4, 5, 0, 9, 0, 8, 4, 1, 6, 6, 7, 1, 8, 3,\n",
              "       8, 6, 4, 6, 2, 2, 7, 3, 7, 0, 6, 3, 5, 3, 1, 1, 7, 8, 1, 3, 6, 6,\n",
              "       3, 2, 0, 0, 7, 5, 4, 3, 9, 6, 7, 9, 5, 7, 7, 6, 4, 2, 6, 5, 3, 0,\n",
              "       7, 7, 1, 1, 3, 7, 9, 4, 3, 7, 1, 9, 3, 1, 7, 0, 3, 8, 3, 3, 6, 3,\n",
              "       2, 7, 5, 3, 1, 1, 4, 3, 3, 7, 3, 0, 9, 4, 2, 0, 1, 6, 9, 7, 8, 1,\n",
              "       6, 3, 3, 0, 4, 0, 3, 8, 6, 0, 9, 0, 0, 6, 2, 1, 0, 7, 1, 6, 4, 4,\n",
              "       6, 1, 9, 0, 7, 7, 5, 1, 5, 6, 1, 3, 7, 9, 1, 8, 5, 6, 6, 9, 2, 9,\n",
              "       2, 1, 5, 8, 6, 6, 1, 1, 1, 8, 1, 5, 7, 5, 9, 9, 9, 0, 5, 9, 7, 9,\n",
              "       1, 8, 1, 5, 2, 9, 8, 6, 9, 1, 4, 3, 6, 3, 0, 0, 9, 0, 1, 6, 8, 1,\n",
              "       2, 1, 3, 2, 0, 1, 6, 7, 2, 0, 6, 5, 1, 0, 4, 6, 2, 1, 2, 4, 1, 7,\n",
              "       2, 7, 8, 8, 1, 9, 7, 8, 6, 5, 8, 5, 4, 4, 8, 7, 6, 8, 6, 4, 8, 8,\n",
              "       0, 4, 2, 2, 5, 1, 9, 2, 5, 8, 8, 1, 3, 9, 7, 7, 1, 6, 2, 5, 2, 2,\n",
              "       9, 7, 5, 2, 0, 3, 3, 5, 3, 3, 9, 2, 3, 4, 3, 6, 7, 8, 5, 0, 3, 4,\n",
              "       0, 9, 0, 9, 6, 4, 7, 3, 3, 6, 3, 8, 9, 8, 9, 7, 2, 6, 9, 8, 6, 3,\n",
              "       3, 0, 0, 3, 4, 8, 4, 7, 6, 0, 6, 4, 4, 4, 7, 0, 8, 6, 6, 9, 5, 4,\n",
              "       3, 3, 0, 0, 3, 1, 2, 0, 7, 2, 6, 8, 0, 2, 0, 0, 8, 2, 6, 6, 3, 1,\n",
              "       9, 0, 1, 9, 3, 2, 3, 9, 2, 4, 8, 2, 3, 0, 7, 8, 6, 4, 4, 8, 5, 7,\n",
              "       3, 1, 0, 7, 6, 6, 7, 7, 9, 9, 4, 0, 1, 7, 2, 0, 4, 0, 5, 5, 6, 6,\n",
              "       3, 8, 4, 5, 8, 8, 3, 2, 7, 4, 6, 6])"
            ]
          },
          "metadata": {},
          "execution_count": 31
        }
      ]
    },
    {
      "cell_type": "markdown",
      "source": [
        "# **Model Accuracy**"
      ],
      "metadata": {
        "id": "QEEewkxp8tYY"
      }
    },
    {
      "cell_type": "code",
      "source": [
        "from sklearn.metrics import confusion_matrix, classification_report"
      ],
      "metadata": {
        "id": "0W-mIaJ78wII"
      },
      "execution_count": 32,
      "outputs": []
    },
    {
      "cell_type": "code",
      "source": [
        "confusion_matrix(y_test, y_pred)"
      ],
      "metadata": {
        "colab": {
          "base_uri": "https://localhost:8080/"
        },
        "id": "oEv6V_9ReCMe",
        "outputId": "75c1d1e7-c6b8-42b4-fb8f-fd15b5887a70"
      },
      "execution_count": 33,
      "outputs": [
        {
          "output_type": "execute_result",
          "data": {
            "text/plain": [
              "array([[57,  0,  0,  0,  2,  0,  0,  0,  0,  0],\n",
              "       [ 0, 61,  0,  0,  0,  0,  0,  0,  0,  0],\n",
              "       [ 0,  0, 45,  0,  0,  0,  0,  0,  0,  0],\n",
              "       [ 0,  0,  0, 61,  0,  0,  0,  0,  0,  0],\n",
              "       [ 0,  0,  0,  0, 48,  0,  0,  1,  0,  0],\n",
              "       [ 0,  0,  0,  0,  0, 39,  0,  0,  0,  2],\n",
              "       [ 1,  0,  0,  0,  0,  1, 61,  0,  1,  0],\n",
              "       [ 0,  0,  0,  0,  0,  0,  0, 55,  0,  0],\n",
              "       [ 0,  0,  0,  2,  0,  0,  0,  1, 49,  2],\n",
              "       [ 0,  0,  0,  0,  0,  0,  0,  1,  1, 49]])"
            ]
          },
          "metadata": {},
          "execution_count": 33
        }
      ]
    },
    {
      "cell_type": "code",
      "source": [
        "print(classification_report(y_test, y_pred))"
      ],
      "metadata": {
        "colab": {
          "base_uri": "https://localhost:8080/"
        },
        "id": "tCG6kaLKeHpU",
        "outputId": "760f1057-0134-4a5a-95fd-de17f382200d"
      },
      "execution_count": 34,
      "outputs": [
        {
          "output_type": "stream",
          "name": "stdout",
          "text": [
            "              precision    recall  f1-score   support\n",
            "\n",
            "           0       0.98      0.97      0.97        59\n",
            "           1       1.00      1.00      1.00        61\n",
            "           2       1.00      1.00      1.00        45\n",
            "           3       0.97      1.00      0.98        61\n",
            "           4       0.96      0.98      0.97        49\n",
            "           5       0.97      0.95      0.96        41\n",
            "           6       1.00      0.95      0.98        64\n",
            "           7       0.95      1.00      0.97        55\n",
            "           8       0.96      0.91      0.93        54\n",
            "           9       0.92      0.96      0.94        51\n",
            "\n",
            "    accuracy                           0.97       540\n",
            "   macro avg       0.97      0.97      0.97       540\n",
            "weighted avg       0.97      0.97      0.97       540\n",
            "\n"
          ]
        }
      ]
    },
    {
      "cell_type": "markdown",
      "source": [
        "# **Explanation**"
      ],
      "metadata": {
        "id": "bS-r3PpT8xSO"
      }
    },
    {
      "cell_type": "markdown",
      "source": [
        "This project demonstrates the successful implementation of a machine learning model for handwritten digit prediction. The chosen model, preprocessing techniques, and training strategies collectively contribute to achieving accurate predictions for new handwritten digit images. The project showcases the capabilities of machine learning in recognizing and classifying complex visual patterns."
      ],
      "metadata": {
        "id": "67JLs2l583dR"
      }
    }
  ]
}